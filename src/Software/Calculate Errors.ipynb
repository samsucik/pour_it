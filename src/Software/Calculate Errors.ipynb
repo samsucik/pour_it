{
 "cells": [
  {
   "cell_type": "code",
   "execution_count": 1,
   "metadata": {
    "collapsed": true
   "outputs": [],
   "source": [
    "import numpy as np"
   ]
  },
  {
   "cell_type": "code",
   "execution_count": null,
   "metadata": {
    "collapsed": true
   },
   "outputs": [],
   "source": []
  },
  {
   "cell_type": "code",
   "execution_count": 15,
   "metadata": {
    "collapsed": true
   },
   "outputs": [],
   "source": [
    "def read_normal_values():\n",
    "    f = open('new_reads_normal.txt','r')\n",
    "    values = []\n",
    "    for line in f:\n",
    "        if(line == 'Failsafe delimiter string \\n'):\n",
    "            continue\n",
    "        else:\n",
    "            values.append(float(line[:-2]))\n",
    "    return values"
   ]
  },
  {
   "cell_type": "code",
   "execution_count": 17,
   "metadata": {},
   "outputs": [],
   "source": [
    "vals = read_normal_values()"
   ]
  },
  {
   "cell_type": "code",
   "execution_count": 19,
   "metadata": {
    "collapsed": true
   },
   "outputs": [],
   "source": [
    "def calculate_error(values,target):\n",
    "    sum_ = 0\n",
    "    for value in values:\n",
    "        sum_ += (target - value) ** 2\n",
    "    return sum_/len(values)"
   ]
  },
  {
   "cell_type": "code",
   "execution_count": 20,
   "metadata": {},
   "outputs": [
    {
     "name": "stdout",
     "output_type": "stream",
     "text": [
      "Error for normal PID: 0.086426\n"
     ]
    }
   ],
   "source": [
    "print(\"Error for normal PID: %1.6f\" % (calculate_error(vals,0.55)))"
   ]
  },
  {
   "cell_type": "code",
   "execution_count": 38,
   "metadata": {
    "collapsed": true
   },
   "outputs": [],
   "source": [
    "def extract_int(string):\n",
    "    digits = []\n",
    "    for c in string:\n",
    "        if(str.isdigit(c)):\n",
    "            digits.append(int(c))\n",
    "    if(len(digits) == 2):\n",
    "        return 10 + digits[1]\n",
    "    return digits[0]"
   ]
  },
  {
   "cell_type": "code",
   "execution_count": 44,
   "metadata": {
    "collapsed": true
   },
   "outputs": [],
   "source": [
    "def read_NN_values():\n",
    "    dict_ = {}\n",
    "    f = open('new_reads_NN.txt','r')\n",
    "    values = []\n",
    "    key = -1\n",
    "    for line in f:\n",
    "        if(line.startswith('Epoch')):\n",
    "            if(len(values) != 0):\n",
    "                dict_[key] = values\n",
    "                values = []\n",
    "            key = extract_int(line)\n",
    "        else:\n",
    "            values.append(float(line[:-2]))\n",
    "    dict_[key] = values\n",
    "    return dict_"
   ]
  },
  {
   "cell_type": "code",
   "execution_count": 45,
   "metadata": {},
   "outputs": [],
   "source": [
    "dict_ = read_NN_values()"
   ]
  },
  {
   "cell_type": "code",
   "execution_count": 46,
   "metadata": {},
   "outputs": [
    {
     "data": {
      "text/plain": [
       "dict_keys([1, 2, 3, 4, 5, 6, 7, 8, 9, 10, 11, 12])"
      ]
     },
     "execution_count": 46,
     "metadata": {},
     "output_type": "execute_result"
    }
   ],
   "source": [
    "dict_.keys()"
   ]
  },
  {
   "cell_type": "code",
   "execution_count": 47,
   "metadata": {},
   "outputs": [
    {
     "name": "stdout",
     "output_type": "stream",
     "text": [
      "Error for PID_NN, epoch  1: 0.089916\n",
      "Error for PID_NN, epoch  2: 0.099570\n",
      "Error for PID_NN, epoch  3: 0.063475\n",
      "Error for PID_NN, epoch  4: 0.087583\n",
      "Error for PID_NN, epoch  5: 0.052322\n",
      "Error for PID_NN, epoch  6: 0.088095\n",
      "Error for PID_NN, epoch  7: 0.067900\n",
      "Error for PID_NN, epoch  8: 0.060702\n",
      "Error for PID_NN, epoch  9: 0.051753\n",
      "Error for PID_NN, epoch 10: 0.082555\n",
      "Error for PID_NN, epoch 11: 0.068059\n",
      "Error for PID_NN, epoch 12: 0.117231\n"
     ]
    }
   ],
   "source": [
    "for key in dict_.keys():\n",
    "    print(\"Error for PID_NN, epoch %2.0f: %1.6f\" % (float(key),calculate_error(dict_[key],0.55)))"
   ]
  },
  {
   "cell_type": "code",
   "execution_count": null,
   "metadata": {
    "collapsed": true
   },
   "outputs": [],
   "source": []
  }
 ],
 "metadata": {
  "kernelspec": {
   "display_name": "Python 3",
   "language": "python",
   "name": "python3"
  },
  "language_info": {
   "codemirror_mode": {
    "name": "ipython",
    "version": 3
   },
   "file_extension": ".py",
   "mimetype": "text/x-python",
   "name": "python",
   "nbconvert_exporter": "python",
   "pygments_lexer": "ipython3",
   "version": "3.6.3"
  }
 },
 "nbformat": 4,
 "nbformat_minor": 2
}
